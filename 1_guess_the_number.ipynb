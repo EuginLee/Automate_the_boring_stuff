{
 "cells": [
  {
   "cell_type": "code",
   "execution_count": 2,
   "metadata": {},
   "outputs": [
    {
     "name": "stdout",
     "output_type": "stream",
     "text": [
      "Hello. What is your name?\n"
     ]
    },
    {
     "name": "stdin",
     "output_type": "stream",
     "text": [
      " deew\n"
     ]
    },
    {
     "name": "stdout",
     "output_type": "stream",
     "text": [
      "Well deew! I am thinking of a number between 1 and 20.\n",
      "Take a guess:\n"
     ]
    },
    {
     "name": "stdin",
     "output_type": "stream",
     "text": [
      " 2\n"
     ]
    },
    {
     "name": "stdout",
     "output_type": "stream",
     "text": [
      "your guess is too low.\n",
      "Take a guess:\n"
     ]
    },
    {
     "name": "stdin",
     "output_type": "stream",
     "text": [
      " 10\n"
     ]
    },
    {
     "name": "stdout",
     "output_type": "stream",
     "text": [
      "your guess is too low.\n",
      "Take a guess:\n"
     ]
    },
    {
     "name": "stdin",
     "output_type": "stream",
     "text": [
      " 15\n"
     ]
    },
    {
     "name": "stdout",
     "output_type": "stream",
     "text": [
      "your guess is too high\n",
      "Take a guess:\n"
     ]
    },
    {
     "name": "stdin",
     "output_type": "stream",
     "text": [
      " 13\n"
     ]
    },
    {
     "name": "stdout",
     "output_type": "stream",
     "text": [
      "good job deew! you took 4 guesses.\n"
     ]
    }
   ],
   "source": [
    "# Guess the number project\n",
    "# The user will guess a randomly generated number between 1-20\n",
    "# Practice: if-else statement\n",
    "# Library: random\n",
    "\n",
    "import random\n",
    "print('Hello. What is your name?')\n",
    "name = input()\n",
    "print('Well '+ name + '! I am thinking of a number between 1 and 20.')\n",
    "secretNumber = random.randint(1,20)\n",
    "\n",
    "# Debug: print('secret number is '+ secretNumber)\n",
    "\n",
    "\n",
    "# for loop to allow 7 guesses, with hints\n",
    "for guessesTaken in range(1,7):\n",
    "    \n",
    "    print('Take a guess:')\n",
    "    guess = int(input())\n",
    "    \n",
    "    if guess < secretNumber:\n",
    "        print('your guess is too low.')\n",
    "    \n",
    "    elif guess > secretNumber:\n",
    "        print('your guess is too high')\n",
    "    \n",
    "    else: \n",
    "        break # this condition is for the correct guess!\n",
    "    \n",
    "# print out the guesses and result\n",
    "if guess == secretNumber:\n",
    "    print( 'good job ' + name + '! you took '+ str(guessesTaken) + ' guesses.')\n",
    "    \n",
    "else:\n",
    "    print ('Nope. The number i was thining of was ' + str(secretNumber))\n",
    "    \n",
    "    "
   ]
  },
  {
   "cell_type": "code",
   "execution_count": null,
   "metadata": {},
   "outputs": [],
   "source": []
  }
 ],
 "metadata": {
  "kernelspec": {
   "display_name": "Python 3",
   "language": "python",
   "name": "python3"
  },
  "language_info": {
   "codemirror_mode": {
    "name": "ipython",
    "version": 3
   },
   "file_extension": ".py",
   "mimetype": "text/x-python",
   "name": "python",
   "nbconvert_exporter": "python",
   "pygments_lexer": "ipython3",
   "version": "3.7.4"
  }
 },
 "nbformat": 4,
 "nbformat_minor": 4
}
