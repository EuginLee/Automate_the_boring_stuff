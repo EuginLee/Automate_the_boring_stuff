{
 "cells": [
  {
   "cell_type": "markdown",
   "metadata": {},
   "source": [
    "## 4_File transfer, references and directory manipuation"
   ]
  },
  {
   "cell_type": "code",
   "execution_count": 1,
   "metadata": {},
   "outputs": [],
   "source": [
    "# 4 File transfer, references and directory manipuation\n",
    "\n",
    "# os module: used for managing and locating files and folders \n",
    "# can use relative and absolute file names\n",
    "\n",
    "# shelve module: to save files that are non-text, like dictionary or lists\n",
    "# shutil module: shell utility, copy and move files \n",
    "# send2trash module: to make sure that its not\n",
    "\n",
    "# using a directory tree os.walk\n",
    "# Image file sorting template\n"
   ]
  },
  {
   "cell_type": "markdown",
   "metadata": {},
   "source": [
    "## Common OS module functions ( file paths and locate files)"
   ]
  },
  {
   "cell_type": "code",
   "execution_count": 24,
   "metadata": {},
   "outputs": [
    {
     "ename": "SyntaxError",
     "evalue": "(unicode error) 'unicodeescape' codec can't decode bytes in position 2-3: truncated \\UXXXXXXXX escape (<ipython-input-24-c1bb4cd29c68>, line 40)",
     "output_type": "error",
     "traceback": [
      "\u001b[1;36m  File \u001b[1;32m\"<ipython-input-24-c1bb4cd29c68>\"\u001b[1;36m, line \u001b[1;32m40\u001b[0m\n\u001b[1;33m    if os.path.isfile(os.path.join('c:\\Users\\User\\Desktop\\automate','filename')):\u001b[0m\n\u001b[1;37m                                  ^\u001b[0m\n\u001b[1;31mSyntaxError\u001b[0m\u001b[1;31m:\u001b[0m (unicode error) 'unicodeescape' codec can't decode bytes in position 2-3: truncated \\UXXXXXXXX escape\n"
     ]
    }
   ],
   "source": [
    "# os library is used for managing file paths, to locate files\n",
    "\n",
    "import os\n",
    "\n",
    "# this is to join strings to create the filepath to locate file\n",
    "os.path.join('folder 1', 'folder 2', 'file.png')\n",
    "\n",
    "# get current file path ( current working directory)\n",
    "os.getcwd()\n",
    "\n",
    "# change directory\n",
    "os.chdir(r'C:\\Users\\User\\Desktop\\automate')\n",
    "\n",
    "# relative and absolute path name\n",
    "\n",
    "# .\\ this directory (rrelative reference to current folder)\n",
    "# ..\\ parent folder (relative reference to current folder))\n",
    "\n",
    "# absolute reference\n",
    "# c:\\\\folder1\\folder2\\spam.png\n",
    "\n",
    "# sed to reference parent ..\\ goes back 2 parent levels\n",
    "os.path.abspath('..\\\\..\\\\spam.png')\n",
    "\n",
    "# get file directory\n",
    "os.path.dirname('c:\\\\folder1\\\\folder2\\\\spam.png')\n",
    "\n",
    "# get file name\n",
    "os.path.basename('c:\\\\folder1\\\\folder2\\\\spam.png')\n",
    "\n",
    "# check if file exist\n",
    "os.path.exists('c:\\\\folder1\\\\folder2\\\\spam.png')\n",
    "\n",
    "# returns the items in that folder\n",
    "os.listdir(r'c:\\Users\\User\\Desktop\\automate')\n"
   ]
  },
  {
   "cell_type": "code",
   "execution_count": null,
   "metadata": {},
   "outputs": [],
   "source": [
    "# create new folder os.makedirs()\n",
    "\n",
    "os.makedirs(r'C:\\Users\\User\\Desktop\\automate\\spare')"
   ]
  },
  {
   "cell_type": "code",
   "execution_count": 5,
   "metadata": {},
   "outputs": [
    {
     "data": {
      "text/plain": [
       "True"
      ]
     },
     "execution_count": 5,
     "metadata": {},
     "output_type": "execute_result"
    }
   ],
   "source": [
    "# to check if file name exist \n",
    "import os\n",
    "filename = 'dictionary.ipynb'\n",
    "os.path.isfile(os.path.join(r'c:\\Users\\User\\Desktop\\automate',filename))"
   ]
  },
  {
   "cell_type": "code",
   "execution_count": null,
   "metadata": {},
   "outputs": [],
   "source": [
    "# a loop to count the size of files in a folder\n",
    "\n",
    "totalSize = 0\n",
    "for filename in os.listdir(r'c:\\Users\\User\\Desktop\\automate'):\n",
    "\n",
    "    # dount size of files that are not file names in the folder\n",
    "    if not os.path.isfile(os.path.join(r'c:\\Users\\User\\Desktop\\automate',filename)):\n",
    "        print(filename)\n",
    "        continue\n",
    "    totalSize = totalSize + os.path.getsize(os.path.join(r'c:\\Users\\User\\Desktop\\automate',filename))\n",
    "print(totalSize)"
   ]
  },
  {
   "cell_type": "markdown",
   "metadata": {},
   "source": [
    "## Deleting files and folders operations"
   ]
  },
  {
   "cell_type": "code",
   "execution_count": 6,
   "metadata": {},
   "outputs": [
    {
     "ename": "FileNotFoundError",
     "evalue": "[WinError 2] The system cannot find the file specified: 'helloworld3.txt'",
     "output_type": "error",
     "traceback": [
      "\u001b[1;31m---------------------------------------------------------------------------\u001b[0m",
      "\u001b[1;31mFileNotFoundError\u001b[0m                         Traceback (most recent call last)",
      "\u001b[1;32m<ipython-input-6-1c289cfe0ec8>\u001b[0m in \u001b[0;36m<module>\u001b[1;34m\u001b[0m\n\u001b[0;32m      3\u001b[0m \u001b[1;32mimport\u001b[0m \u001b[0mos\u001b[0m\u001b[1;33m\u001b[0m\u001b[1;33m\u001b[0m\u001b[0m\n\u001b[0;32m      4\u001b[0m \u001b[1;31m#permanently delete file\u001b[0m\u001b[1;33m\u001b[0m\u001b[1;33m\u001b[0m\u001b[1;33m\u001b[0m\u001b[0m\n\u001b[1;32m----> 5\u001b[1;33m \u001b[0mos\u001b[0m\u001b[1;33m.\u001b[0m\u001b[0munlink\u001b[0m\u001b[1;33m(\u001b[0m\u001b[1;34m'helloworld3.txt'\u001b[0m\u001b[1;33m)\u001b[0m\u001b[1;33m\u001b[0m\u001b[1;33m\u001b[0m\u001b[0m\n\u001b[0m\u001b[0;32m      6\u001b[0m \u001b[1;33m\u001b[0m\u001b[0m\n\u001b[0;32m      7\u001b[0m \u001b[1;31m# delete folder, but can only delete one that is empty\u001b[0m\u001b[1;33m\u001b[0m\u001b[1;33m\u001b[0m\u001b[1;33m\u001b[0m\u001b[0m\n",
      "\u001b[1;31mFileNotFoundError\u001b[0m: [WinError 2] The system cannot find the file specified: 'helloworld3.txt'"
     ]
    }
   ],
   "source": [
    "# delete files and folders\n",
    "\n",
    "import os \n",
    "#permanently delete file\n",
    "os.unlink('helloworld3.txt')\n",
    "\n",
    "# delete folder, but can only delete one that is empty\n",
    "os.rmdir(r'./spare2')\n",
    "\n",
    "# delete folders, that contain items in it\n",
    "import shutil\n",
    "shutil.rmtree(r'spare3')\n"
   ]
  },
  {
   "cell_type": "code",
   "execution_count": null,
   "metadata": {},
   "outputs": [],
   "source": [
    "# to delete files carefully, and with a check first before delete\n",
    "\n",
    "import os\n",
    "for filename in os.listdir():\n",
    "    if filename.endswith('.txt'):\n",
    "        #os.unlink(filename)\n",
    "        print(filename)"
   ]
  },
  {
   "cell_type": "code",
   "execution_count": null,
   "metadata": {},
   "outputs": [],
   "source": [
    "# send2trash module, delete but send it to recycling bin\n",
    "# instead of permanently\n",
    "\n",
    "import send2trash\n",
    "file\n",
    "send2trash.send2trash(file)"
   ]
  },
  {
   "cell_type": "markdown",
   "metadata": {},
   "source": [
    "## Reading and writing plain text file"
   ]
  },
  {
   "cell_type": "code",
   "execution_count": 7,
   "metadata": {},
   "outputs": [],
   "source": [
    "# reading and writing plaintext file \n",
    "# plain text file ( .txt, .py)\n",
    "# binary file is like a program file ( .exe .doc)\n",
    "\n",
    "#open file \n",
    "helloFile = open('helloworld.txt')\n",
    "content = helloFile.read()\n",
    "helloFile.close()\n",
    "content\n",
    "\n",
    "# create a new file: open file in write mode, or append mode\n",
    "helloFile = open('helloworld2.txt', 'w')  # use 'a' for append ( so wont overwrite)\n",
    "helloFile.write(\"Yes\")\n",
    "\n"
   ]
  },
  {
   "cell_type": "code",
   "execution_count": 8,
   "metadata": {},
   "outputs": [],
   "source": [
    "#shelve library, saves list, dictionary., non-text type\n",
    "\n",
    "import shelve\n",
    "\n",
    "shelfFile = shelve.open('Mydata')\n",
    "shelfFile['cats'] = ['Zophie', 'Pooka']\n",
    "\n"
   ]
  },
  {
   "cell_type": "markdown",
   "metadata": {},
   "source": [
    "## Shutil module: Copying and moving files and folders"
   ]
  },
  {
   "cell_type": "code",
   "execution_count": 13,
   "metadata": {},
   "outputs": [
    {
     "data": {
      "text/plain": [
       "'helloworld3.txt'"
      ]
     },
     "execution_count": 13,
     "metadata": {},
     "output_type": "execute_result"
    }
   ],
   "source": [
    "# copying and moving files and folders (32)\n",
    "\n",
    "# shutil module shell utility, copy and moving files from one folder to another\n",
    "\n",
    "import shutil\n",
    "\n",
    "# copy helloworld.txt folder to another folder\n",
    "shutil.copy(r'helloworld.txt', '.\\spare')\n",
    "\n",
    "# copy the whole folder\n",
    "shutil.copytree(r'.\\spare', '.\\spare3')\n",
    "\n",
    "# move the file and give it another name\n",
    "shutil.move(r'helloworld.txt', r'helloworld3.txt')\n"
   ]
  },
  {
   "cell_type": "code",
   "execution_count": 33,
   "metadata": {},
   "outputs": [
    {
     "name": "stdout",
     "output_type": "stream",
     "text": [
      "the folder name: delicious\n",
      "the subfolder name: ['.ipynb_checkpoints', 'food', 'walnut']\n",
      "the filename: []\n",
      "the folder name: delicious\\.ipynb_checkpoints\n",
      "the subfolder name: []\n",
      "the filename: []\n",
      "the folder name: delicious\\food\n",
      "the subfolder name: ['noodles']\n",
      "the filename: ['chic_rice.txt']\n",
      "the folder name: delicious\\food\\noodles\n",
      "the subfolder name: []\n",
      "the filename: []\n",
      "the folder name: delicious\\walnut\n",
      "the subfolder name: []\n",
      "the filename: ['roasted.txt']\n"
     ]
    }
   ],
   "source": [
    "## using os.walk to manipulate files \n",
    "\n",
    "# walking a directory tree (34)- IMPT\n",
    "# using os.walk we can get the folder name, subfolder( one level down) name, and file names\n",
    "# we can run a look to explore all the folders and files from that directory\n",
    "\n",
    "import os\n",
    "\n",
    "# os.walk returns 3 things, it also runs through the whole dictory and loops the fies\n",
    "for folderName,  subFolders, fileNames in os.walk(r'delicious'):\n",
    "    print('the folder name: ' + folderName)\n",
    "    print('the subfolder name: ' + str(subFolders))\n",
    "    print('the filename: ' + str(fileNames))\n",
    "    \n",
    "    # lets say we want to delete subfolders:\n",
    "    \n",
    "    for subFolders in subFolders:\n",
    "        if 'fish' in subFolders:\n",
    "            os.rmdir(subFolders)\n",
    "            # just to check if you are deleting the correct file\n",
    "            #print('rmdir on 'subFolder)\n",
    "            print()\n",
    "            \n",
    "    # duplicate a file and give it a new filename\n",
    "    for file in fileNames: \n",
    "        if file.endswith('.py'):\n",
    "            shutil.copy(os.join(folderName, file), os.join(folderName, file + '.backup'))\n"
   ]
  },
  {
   "cell_type": "code",
   "execution_count": null,
   "metadata": {},
   "outputs": [],
   "source": [
    "# image file sorting template: converting images to greyscale and saving them into a separate directory\n",
    "\n",
    "\n",
    "import os\n",
    "from PIL import Image,ImageFilter,ImageOps\n",
    "\n",
    "where = \"images\"\n",
    "outFolder = \"grayscale\"\n",
    "\n",
    "def convertImageGrayscale(onlyFirst):\n",
    "    if not os.path.exists(outFolder):\n",
    "        os.mkdir(outFolder)\n",
    "        print(\"Created grayscale folder successfully.\")\n",
    "    else:\n",
    "        print(\"Using current grayscale folder.\")\n",
    "    c = 1\n",
    "    for root, dirs, files in os.walk(where):\n",
    "        for file in files:\n",
    "            fullname = os.path.join(root,file)\n",
    "            \n",
    "            if file.lower().endswith(\"jpg\") or \\\n",
    "            file.lower().endswith(\"bmp\") or \\\n",
    "            file.lower().endswith(\"png\") or \\\n",
    "            file.lower().endswith(\"svg\"):\n",
    "\n",
    "                im = Image.open(fullname)\n",
    "                out = ImageOps.grayscale(im)\n",
    "                outFilename = os.path.join(outFolder,file)\n",
    "                print(\"%2d %s \" % (c, outFilename))\n",
    "                out.save(outFilename)\n",
    "                \n",
    "                #im.show()\n",
    "                #display(im)\n",
    "                #display(out)\n",
    "                \n",
    "                c += 1\n",
    "                if onlyFirst:\n",
    "                return\n",
    "\n",
    "convertImageGrayscale(False)"
   ]
  }
 ],
 "metadata": {
  "kernelspec": {
   "display_name": "Python 3",
   "language": "python",
   "name": "python3"
  },
  "language_info": {
   "codemirror_mode": {
    "name": "ipython",
    "version": 3
   },
   "file_extension": ".py",
   "mimetype": "text/x-python",
   "name": "python",
   "nbconvert_exporter": "python",
   "pygments_lexer": "ipython3",
   "version": "3.7.4"
  }
 },
 "nbformat": 4,
 "nbformat_minor": 4
}
