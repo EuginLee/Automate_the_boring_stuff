{
 "cells": [
  {
   "cell_type": "markdown",
   "metadata": {},
   "source": [
    "## 5_debugging_tips"
   ]
  },
  {
   "cell_type": "code",
   "execution_count": null,
   "metadata": {},
   "outputs": [],
   "source": [
    "# raise and assert statement: traffic light stimulation project\n",
    "# traceback/callback \n",
    "# logging \n",
    "# debugger\n",
    "# Modules: traceback, logging"
   ]
  },
  {
   "cell_type": "markdown",
   "metadata": {},
   "source": [
    "## Raise statement: custom error messages "
   ]
  },
  {
   "cell_type": "code",
   "execution_count": 2,
   "metadata": {},
   "outputs": [],
   "source": [
    "# the raise and assert statements (35)\n",
    "# is used when you know that the code may have bugs and you want the code to express it ( rather than show an trackback/crash)\n",
    "# custom error messages\n",
    "\n",
    "# diffent from try-except when it runs alternate code, this pushes out an custom error message\n",
    "\n",
    "\"\"\" \n",
    "\n",
    "*******\n",
    "**   **\n",
    "**   **\n",
    "*******\n",
    "\n",
    "\"\"\"\n",
    "\n",
    "# TO DO: create a function to print this box\n",
    "\n",
    "def boxPrint(symbol, width, height):\n",
    "    \n",
    "    # include custom error traceback\n",
    "    if len(symbol) != 1:\n",
    "        raise Exception('\"symbol\" needs to be 1.')\n",
    "        \n",
    "    if (width<2) or (height<2):\n",
    "        raise Exception('\"width\" and \"height\" needs to be at least 2.')\n",
    "    print(symbol * width)\n",
    "    \n",
    "    \n",
    "    for i in range(height-2):\n",
    "        print(symbol + (' ' * (width - 2))+ symbol)\n",
    "        \n",
    "    print(symbol * width)"
   ]
  },
  {
   "cell_type": "code",
   "execution_count": 6,
   "metadata": {},
   "outputs": [
    {
     "name": "stdout",
     "output_type": "stream",
     "text": [
      "111\n",
      "1 1\n",
      "111\n"
     ]
    }
   ],
   "source": [
    "boxPrint('1',3,3)"
   ]
  },
  {
   "cell_type": "markdown",
   "metadata": {},
   "source": [
    "## Traceback: show where the error was being called"
   ]
  },
  {
   "cell_type": "code",
   "execution_count": 28,
   "metadata": {},
   "outputs": [
    {
     "name": "stdout",
     "output_type": "stream",
     "text": [
      "the traceback info was written error_log.txt\n"
     ]
    }
   ],
   "source": [
    "# traceback module, also known as a callstack ( shows where the error was being called)\n",
    "# creating an error log.txt IMPT \n",
    "import traceback\n",
    "\n",
    "try:\n",
    "    raise Exception('This is the error message')\n",
    "except:\n",
    "    errorFile = open('error_log.txt','a')\n",
    "    errorFile.write(traceback.format_exc())\n",
    "    errorFile.close()\n",
    "    print('the traceback info was written error_log.txt')\n",
    "    \n",
    "    \n",
    "    "
   ]
  },
  {
   "cell_type": "markdown",
   "metadata": {},
   "source": [
    "## Assertion statement: show custom error message, when condition not met. More like a sanity check on your code"
   ]
  },
  {
   "cell_type": "code",
   "execution_count": 91,
   "metadata": {},
   "outputs": [],
   "source": [
    "# assertions conditions are sanity checks to make sure that your code is doing as expected\n",
    "# assertion conditions, highlights certain fundamental code results in the form of an error\n",
    "\n",
    "\n",
    "#traffic stimulator program, basially traffic moving in both direction. \n",
    "# you want to create a program, to make sure they dont crash on to each other\n",
    "\n",
    "\n",
    "market_2nd = {'ns': 'green', 'ew': 'red'}\n",
    "\n",
    "def switchLights(intersection):\n",
    "    \n",
    "    for key in intersection.keys():\n",
    "        \n",
    "        if intersection[key] == 'green':\n",
    "            intersection[key] = 'yellow'\n",
    "            \n",
    "        elif intersection[key] == 'yellow':\n",
    "            intersection[key] = 'red'\n",
    "            \n",
    "        elif intersection[key] == 'red':\n",
    "            intersection[key] = 'green'\n",
    "            \n",
    "    # in this switchlights, we expect one of the lights to be red at all time\n",
    "    # this check allow us to see that, flag out as error if not true\n",
    "    assert 'red' in intersection.values(), 'neither light is red!'+ str(intersection)\n",
    "        \n",
    "            \n",
    "            \n",
    "        \n",
    "\n",
    "        \n",
    "    "
   ]
  },
  {
   "cell_type": "code",
   "execution_count": 92,
   "metadata": {
    "scrolled": true
   },
   "outputs": [
    {
     "name": "stdout",
     "output_type": "stream",
     "text": [
      "{'ns': 'green', 'ew': 'red'}\n"
     ]
    },
    {
     "ename": "AssertionError",
     "evalue": "neither light is red!{'ns': 'yellow', 'ew': 'green'}",
     "output_type": "error",
     "traceback": [
      "\u001b[1;31m---------------------------------------------------------------------------\u001b[0m",
      "\u001b[1;31mAssertionError\u001b[0m                            Traceback (most recent call last)",
      "\u001b[1;32m<ipython-input-92-47ced5e46463>\u001b[0m in \u001b[0;36m<module>\u001b[1;34m\u001b[0m\n\u001b[0;32m      1\u001b[0m \u001b[0mprint\u001b[0m\u001b[1;33m(\u001b[0m\u001b[0mmarket_2nd\u001b[0m\u001b[1;33m)\u001b[0m\u001b[1;33m\u001b[0m\u001b[1;33m\u001b[0m\u001b[0m\n\u001b[1;32m----> 2\u001b[1;33m \u001b[0mswitchLights\u001b[0m\u001b[1;33m(\u001b[0m\u001b[0mmarket_2nd\u001b[0m\u001b[1;33m)\u001b[0m\u001b[1;33m\u001b[0m\u001b[1;33m\u001b[0m\u001b[0m\n\u001b[0m\u001b[0;32m      3\u001b[0m \u001b[0mprint\u001b[0m\u001b[1;33m(\u001b[0m\u001b[0mmarket_2nd\u001b[0m\u001b[1;33m)\u001b[0m\u001b[1;33m\u001b[0m\u001b[1;33m\u001b[0m\u001b[0m\n",
      "\u001b[1;32m<ipython-input-91-39e3b51edca6>\u001b[0m in \u001b[0;36mswitchLights\u001b[1;34m(intersection)\u001b[0m\n\u001b[0;32m     24\u001b[0m     \u001b[1;31m# in this switchlights, we expect one of the lights to be red at all time\u001b[0m\u001b[1;33m\u001b[0m\u001b[1;33m\u001b[0m\u001b[1;33m\u001b[0m\u001b[0m\n\u001b[0;32m     25\u001b[0m     \u001b[1;31m# this check allow us to see that, flag out as error if not true\u001b[0m\u001b[1;33m\u001b[0m\u001b[1;33m\u001b[0m\u001b[1;33m\u001b[0m\u001b[0m\n\u001b[1;32m---> 26\u001b[1;33m     \u001b[1;32massert\u001b[0m \u001b[1;34m'red'\u001b[0m \u001b[1;32min\u001b[0m \u001b[0mintersection\u001b[0m\u001b[1;33m.\u001b[0m\u001b[0mvalues\u001b[0m\u001b[1;33m(\u001b[0m\u001b[1;33m)\u001b[0m\u001b[1;33m,\u001b[0m \u001b[1;34m'neither light is red!'\u001b[0m\u001b[1;33m+\u001b[0m \u001b[0mstr\u001b[0m\u001b[1;33m(\u001b[0m\u001b[0mintersection\u001b[0m\u001b[1;33m)\u001b[0m\u001b[1;33m\u001b[0m\u001b[1;33m\u001b[0m\u001b[0m\n\u001b[0m\u001b[0;32m     27\u001b[0m \u001b[1;33m\u001b[0m\u001b[0m\n\u001b[0;32m     28\u001b[0m \u001b[1;33m\u001b[0m\u001b[0m\n",
      "\u001b[1;31mAssertionError\u001b[0m: neither light is red!{'ns': 'yellow', 'ew': 'green'}"
     ]
    }
   ],
   "source": [
    "print(market_2nd)\n",
    "switchLights(market_2nd)\n",
    "print(market_2nd)"
   ]
  },
  {
   "cell_type": "markdown",
   "metadata": {},
   "source": [
    "## Logging - showing log/checkpoint messages as the program runs"
   ]
  },
  {
   "cell_type": "code",
   "execution_count": 102,
   "metadata": {},
   "outputs": [
    {
     "name": "stdout",
     "output_type": "stream",
     "text": [
      "120\n"
     ]
    }
   ],
   "source": [
    "# logging(36), displaying log messages, showing u the change in the variables \n",
    "# the difference with print() is that we dont have to go about deleting the print() messages after we debug\n",
    "# we can use the below msg to disable it\n",
    "# there are 5 band levels: debug(lowest), info, warning, error, critical\n",
    "\n",
    "# disable all messages at critical level and lower\n",
    "logging.disable(logging.CRITICAL)\n",
    "\n",
    "import logging\n",
    "# standard format to display logging, just copy ( if you put a filename, u can out to a txt too)\n",
    "logging.basicConfig(level = logging.DEBUG, format ='%(asctime)s -%(levelname)s - %(message)s')\n",
    "\n",
    "logging.debug('start of program')\n",
    "#TO DO/program: Factorial program\n",
    "\n",
    "def factorial(n):\n",
    "    total = 1\n",
    "    \n",
    "    for i in range(1, n+1):\n",
    "        total *= i \n",
    "        logging.debug('i is %s, total is %s' %(i, total))\n",
    "        logging.debug('Return value is %s' %(total))\n",
    "    return total\n",
    "\n",
    "print(factorial(5))"
   ]
  },
  {
   "cell_type": "markdown",
   "metadata": {},
   "source": [
    "## Debugger (VS code)"
   ]
  },
  {
   "cell_type": "code",
   "execution_count": 103,
   "metadata": {},
   "outputs": [],
   "source": [
    "# using the debugger(37)\n",
    "# that debugger in VS code\n",
    "# allow u to run the code one by one\n",
    "\n",
    "#local variables\n",
    "# \n",
    "\n",
    "#global variables\n",
    "# dumbar ___something___: those that python auto enable at start \n",
    "# you can see those variables you declare\n",
    "\n",
    "#'step into' button - allow the debugger to run into the function call\n",
    "# 'step out button' - step out of the function call\n",
    "# 'over' button - run next line of code\n",
    "# 'breakpoint'button - points the script to runs to the point and stops \n"
   ]
  },
  {
   "cell_type": "code",
   "execution_count": null,
   "metadata": {},
   "outputs": [],
   "source": []
  }
 ],
 "metadata": {
  "kernelspec": {
   "display_name": "Python 3",
   "language": "python",
   "name": "python3"
  },
  "language_info": {
   "codemirror_mode": {
    "name": "ipython",
    "version": 3
   },
   "file_extension": ".py",
   "mimetype": "text/x-python",
   "name": "python",
   "nbconvert_exporter": "python",
   "pygments_lexer": "ipython3",
   "version": "3.7.4"
  }
 },
 "nbformat": 4,
 "nbformat_minor": 4
}
