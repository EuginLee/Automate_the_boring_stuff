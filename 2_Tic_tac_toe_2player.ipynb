{
 "cells": [
  {
   "cell_type": "code",
   "execution_count": 3,
   "metadata": {},
   "outputs": [
    {
     "name": "stdout",
     "output_type": "stream",
     "text": [
      " | | \n",
      "-+-+-\n",
      " | | \n",
      "-+-+-\n",
      " | | \n",
      "Turn for :X Choose a space : \n"
     ]
    },
    {
     "name": "stdin",
     "output_type": "stream",
     "text": [
      " sd\n"
     ]
    },
    {
     "name": "stdout",
     "output_type": "stream",
     "text": [
      "Oops! that was not a valid cell. Try again.\n",
      "\n",
      "top-L | top-M | top-R\n",
      "mid-L | mid-M | mid-R\n",
      "low-L | low-M | low-R\n"
     ]
    },
    {
     "name": "stdin",
     "output_type": "stream",
     "text": [
      " sd\n"
     ]
    },
    {
     "name": "stdout",
     "output_type": "stream",
     "text": [
      "Oops! that was not a valid cell. Try again.\n",
      "\n",
      "top-L | top-M | top-R\n",
      "mid-L | mid-M | mid-R\n",
      "low-L | low-M | low-R\n"
     ]
    },
    {
     "name": "stdin",
     "output_type": "stream",
     "text": [
      " top-L\n"
     ]
    },
    {
     "name": "stdout",
     "output_type": "stream",
     "text": [
      "X| | \n",
      "-+-+-\n",
      " | | \n",
      "-+-+-\n",
      " | | \n",
      "Turn for :0 Choose a space : \n"
     ]
    },
    {
     "name": "stdin",
     "output_type": "stream",
     "text": [
      " mid-L\n"
     ]
    },
    {
     "name": "stdout",
     "output_type": "stream",
     "text": [
      "X| | \n",
      "-+-+-\n",
      "0| | \n",
      "-+-+-\n",
      " | | \n",
      "Turn for :X Choose a space : \n"
     ]
    },
    {
     "name": "stdin",
     "output_type": "stream",
     "text": [
      " top-L\n"
     ]
    },
    {
     "name": "stdout",
     "output_type": "stream",
     "text": [
      "Do not try to steal a place! \n"
     ]
    },
    {
     "name": "stdin",
     "output_type": "stream",
     "text": [
      " low-L\n"
     ]
    },
    {
     "name": "stdout",
     "output_type": "stream",
     "text": [
      "X| | \n",
      "-+-+-\n",
      "0| | \n",
      "-+-+-\n",
      "X| | \n",
      "Turn for :0 Choose a space : \n"
     ]
    },
    {
     "name": "stdin",
     "output_type": "stream",
     "text": [
      " mid-M\n"
     ]
    },
    {
     "name": "stdout",
     "output_type": "stream",
     "text": [
      "X| | \n",
      "-+-+-\n",
      "0|0| \n",
      "-+-+-\n",
      "X| | \n",
      "Turn for :X Choose a space : \n"
     ]
    },
    {
     "name": "stdin",
     "output_type": "stream",
     "text": [
      " Top-R\n"
     ]
    },
    {
     "name": "stdout",
     "output_type": "stream",
     "text": [
      "Oops! that was not a valid cell. Try again.\n",
      "\n",
      "top-L | top-M | top-R\n",
      "mid-L | mid-M | mid-R\n",
      "low-L | low-M | low-R\n"
     ]
    },
    {
     "name": "stdin",
     "output_type": "stream",
     "text": [
      " top-R\n"
     ]
    },
    {
     "name": "stdout",
     "output_type": "stream",
     "text": [
      "X| |X\n",
      "-+-+-\n",
      "0|0| \n",
      "-+-+-\n",
      "X| | \n",
      "Turn for :0 Choose a space : \n"
     ]
    },
    {
     "name": "stdin",
     "output_type": "stream",
     "text": [
      " mid-R\n"
     ]
    },
    {
     "name": "stdout",
     "output_type": "stream",
     "text": [
      "0 wins the game!\n",
      "X| |X\n",
      "-+-+-\n",
      "0|0|0\n",
      "-+-+-\n",
      "X| | \n"
     ]
    }
   ],
   "source": [
    "# Tic-tac-toe for 2 player - turn based\n",
    "# Skills: using dictionary data structure, and practice capturing errors\n",
    "\n",
    "turn = 'X'\n",
    "\n",
    "# list of possible inputs\n",
    "listed = ['top-L', 'top-M', 'top-R', 'mid-L', 'mid-M','mid-R','low-L','low-M','low-R']\n",
    " \n",
    "\n",
    "# original gameboard, using dictionary \n",
    "theBoard = {'top-L': ' ', 'top-M': ' ', 'top-R': ' ',\n",
    "        'mid-L': ' ', 'mid-M': ' ', 'mid-R': ' ',\n",
    "        'low-L': ' ', 'low-M': ' ', 'low-R': ' '}\n",
    "\n",
    "#print out the updated game board\n",
    "def printBoard(board):\n",
    "    print(board['top-L'] + '|' + board['top-M'] + '|' + board['top-R'])\n",
    "    print('-+-+-')\n",
    "    print(board['mid-L'] + '|' + board['mid-M'] + '|' + board['mid-R'])\n",
    "    print('-+-+-')\n",
    "    print(board['low-L'] + '|' + board['low-M'] + '|' + board['low-R'])\n",
    "\n",
    "\n",
    "#criteria for winning, the x, o must form a line, and it cannot be empty    \n",
    "def testForAWin(board):\n",
    "    won = False\n",
    " \n",
    "    if((board['top-L'] == board['top-M'] == board['top-R']) and board['top-L'] != ' '):\n",
    "        won = True\n",
    "    elif(board['mid-L'] == board['mid-M'] == board['mid-R'] and board['mid-L'] != ' '):\n",
    "        won = True\n",
    "    elif(board['low-L'] == board['low-M'] == board['low-R'] and board['low-L'] != ' '):\n",
    "        won = True \n",
    "        \n",
    "    elif(board['top-L'] == board['mid-L'] == board['low-L'] and board['top-L'] != ' '):\n",
    "        won = True\n",
    "    elif(board['top-M'] == board['mid-M'] == board['low-M'] and board['top-M'] != ' '):\n",
    "        won = True\n",
    "    elif(board['top-R'] == board['mid-R'] == board['low-R'] and board['top-R'] != ' '):\n",
    "        won = True        \n",
    "        \n",
    "    elif(board['top-L'] == board['mid-M'] == board['low-R'] and board['top-L'] != ' '):\n",
    "        won = True\n",
    "    elif(board['top-R'] == board['mid-M'] == board['low-L'] and board['top-R'] != ' '):\n",
    "        won = True        \n",
    "               \n",
    "    return won\n",
    "\n",
    " \n",
    "for i in range(9):\n",
    "    printBoard(theBoard)\n",
    "    print('Turn for :' + turn + ' Choose a space : ')\n",
    "    \n",
    "    move = input()\n",
    "\n",
    "    # error messsage if user entered \n",
    "    while not move in listed:\n",
    "        print('Oops! that was not a valid cell. Try again.')\n",
    "        print()\n",
    "        print('top-L | top-M | top-R') \n",
    "        print('mid-L | mid-M | mid-R')\n",
    "        print('low-L | low-M | low-R')\n",
    "        move = input()\n",
    "    \n",
    "    # error message if the cell is not empty\n",
    "    while not theBoard[move]== ' ':\n",
    "        print('Do not try to steal a place! ')\n",
    "        move = input()\n",
    " \n",
    "    theBoard[move] = turn\n",
    "    won = testForAWin(theBoard)\n",
    "    \n",
    "    if won:\n",
    "        print(turn + ' wins the game!')\n",
    "        break\n",
    "    elif turn == 'X':\n",
    "        turn = '0'\n",
    "    else:\n",
    "        turn = 'X'\n",
    "printBoard(theBoard)"
   ]
  },
  {
   "cell_type": "code",
   "execution_count": null,
   "metadata": {},
   "outputs": [],
   "source": []
  }
 ],
 "metadata": {
  "kernelspec": {
   "display_name": "Python 3",
   "language": "python",
   "name": "python3"
  },
  "language_info": {
   "codemirror_mode": {
    "name": "ipython",
    "version": 3
   },
   "file_extension": ".py",
   "mimetype": "text/x-python",
   "name": "python",
   "nbconvert_exporter": "python",
   "pygments_lexer": "ipython3",
   "version": "3.7.4"
  }
 },
 "nbformat": 4,
 "nbformat_minor": 4
}
