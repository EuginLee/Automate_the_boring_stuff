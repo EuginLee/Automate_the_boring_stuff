{
 "cells": [
  {
   "cell_type": "code",
   "execution_count": 5,
   "metadata": {},
   "outputs": [],
   "source": [
    "## Web scraping\n",
    "# webbrowser: launching a website, or download from website\n",
    "# beautiful soup: scraping HTML ( Prokject: scraping prices from Amazon page)\n",
    "# selenium: controling the browser using CSS selector\n",
    "\n",
    "# module: webbrowser, sys, request, ps4, selenium"
   ]
  },
  {
   "cell_type": "markdown",
   "metadata": {},
   "source": [
    "## Webbrowser module: opening a webpage/ web document using python"
   ]
  },
  {
   "cell_type": "code",
   "execution_count": 1,
   "metadata": {},
   "outputs": [
    {
     "data": {
      "text/plain": [
       "True"
      ]
     },
     "execution_count": 1,
     "metadata": {},
     "output_type": "execute_result"
    }
   ],
   "source": [
    "#section:13 Web scraping \n",
    "\n",
    "# the webbrowser module (38)\n",
    "import webbrowser\n",
    "\n",
    "#bring up the website\n",
    "webbrowser.open('https://automatetheboringstuff.com')"
   ]
  },
  {
   "cell_type": "code",
   "execution_count": 2,
   "metadata": {},
   "outputs": [
    {
     "data": {
      "text/plain": [
       "['C:\\\\Users\\\\User\\\\Anaconda3\\\\lib\\\\site-packages\\\\ipykernel_launcher.py',\n",
       " '-f',\n",
       " 'C:\\\\Users\\\\User\\\\AppData\\\\Roaming\\\\jupyter\\\\runtime\\\\kernel-088ab789-1113-4060-95da-3e1859e1562a.json']"
      ]
     },
     "execution_count": 2,
     "metadata": {},
     "output_type": "execute_result"
    }
   ],
   "source": [
    "import webbrowser, sys, pyperclip\n",
    "\n",
    "sys.argv"
   ]
  },
  {
   "cell_type": "code",
   "execution_count": 9,
   "metadata": {},
   "outputs": [
    {
     "data": {
      "text/plain": [
       "200"
      ]
     },
     "execution_count": 9,
     "metadata": {},
     "output_type": "execute_result"
    }
   ],
   "source": [
    "# downloading from the web with the requests module (39)\n",
    "import requests\n",
    "res = requests.get('https://automatetheboringstuff.com/files/rj.txt')\n"
   ]
  },
  {
   "cell_type": "code",
   "execution_count": 11,
   "metadata": {},
   "outputs": [
    {
     "data": {
      "text/plain": [
       "178978"
      ]
     },
     "execution_count": 11,
     "metadata": {},
     "output_type": "execute_result"
    }
   ],
   "source": [
    "#to check if success, we can use the status_code, 200 means success\n",
    "res.status_code\n",
    "len(res.text)"
   ]
  },
  {
   "cell_type": "code",
   "execution_count": 14,
   "metadata": {},
   "outputs": [
    {
     "name": "stdout",
     "output_type": "stream",
     "text": [
      "The Project Gutenberg EBook of Romeo and Juliet, by William Shakespeare\n",
      "\n",
      "This eBook is for the use of anyone anywhere at no cost and with\n",
      "almost no restrictions whatsoever.  You may copy it, give it away or\n",
      "re-use it under the terms of the Project Gutenberg License included\n",
      "with this eBook or online at www.gutenberg.org/license\n",
      "\n",
      "\n",
      "Title: Romeo and Juliet\n",
      "\n",
      "Author: William Shakespeare\n",
      "\n",
      "Posting Date: May 25, 2012 [EBook #1112]\n",
      "Release Date: November, 1997  [Etext #1112]\n",
      "\n",
      "Language: Eng\n"
     ]
    }
   ],
   "source": [
    "print(res.text[:500])"
   ]
  },
  {
   "cell_type": "code",
   "execution_count": 17,
   "metadata": {},
   "outputs": [
    {
     "name": "stdout",
     "output_type": "stream",
     "text": [
      "None\n"
     ]
    }
   ],
   "source": [
    "# boolean check if the website is downloaded correctly\n",
    "print(res.raise_for_status())"
   ]
  },
  {
   "cell_type": "code",
   "execution_count": 18,
   "metadata": {},
   "outputs": [],
   "source": [
    "# write binary 'wb', basically u need to write in unicode\n",
    "# write the downloaded text into the local file\n",
    "playFile = open('RomeoAndJuliet.txt','wb')\n",
    "for chunk in res.iter_content(100000):\n",
    "    playFile.write(chunk)"
   ]
  },
  {
   "cell_type": "markdown",
   "metadata": {},
   "source": [
    "## Beautiful soup: parsing HTML "
   ]
  },
  {
   "cell_type": "code",
   "execution_count": 26,
   "metadata": {},
   "outputs": [],
   "source": [
    "# parsing HTML with the beautiful soup module (39)\n",
    "\n",
    "\n",
    "#TO DO: we want to scrap the price off the webpage\n",
    "# https://www.amazon.sg/Automate-Boring-Stuff-Python-2nd/dp/1593279922/ref=sr_1_4?qid=1588957546&refinements=p_27%3AAl+Sweigart&s=books&sr=1-4\n",
    "import bs4\n",
    "import requests\n",
    "\n",
    "res = requests.get('https://www.amazon.sg/Automate-Boring-Stuff-Python-2nd/dp/1593279922/ref=sr_1_4?qid=1588957546&refinements=p_27%3AAl+Sweigart&s=books&sr=1-4')\n",
    "print(res.raise_for_status()) # to check if has been downloaded correctly"
   ]
  },
  {
   "cell_type": "code",
   "execution_count": 30,
   "metadata": {},
   "outputs": [],
   "source": [
    "# save it as a soup object\n",
    "soup = bs4.BeautifulSoup(res.text, 'html.parser')"
   ]
  },
  {
   "cell_type": "code",
   "execution_count": 32,
   "metadata": {},
   "outputs": [],
   "source": [
    "\n",
    "# https://www.amazon.sg/Automate-Boring-Stuff-Python-2nd/dp/1593279922/ref=sr_1_4?qid=1588957546&refinements=p_27%3AAl+Sweigart&s=books&sr=1-4\n",
    "\n",
    "# locate the object u want to parse on the website, \n",
    "# right-click, inspect the object\n",
    "# on the html, right-click and copy CSS path, or selector\n",
    "\n",
    "soup.select('#buyNewSection > div > div > span.inlineBlock-display > span')\n",
    "\n",
    "#\n",
    "elems = soup.select('#buyNewSection > div > div > span.inlineBlock-display > span')"
   ]
  },
  {
   "cell_type": "code",
   "execution_count": 42,
   "metadata": {},
   "outputs": [
    {
     "data": {
      "text/plain": [
       "'S$48.00'"
      ]
     },
     "execution_count": 42,
     "metadata": {},
     "output_type": "execute_result"
    }
   ],
   "source": [
    "# toget the price, somehow strip is not needed to \n",
    "elems[0].text.strip()"
   ]
  },
  {
   "cell_type": "code",
   "execution_count": 49,
   "metadata": {},
   "outputs": [],
   "source": [
    "#packaging all of it into a function\n",
    "\n",
    "def getAmazonPrice(productURL):\n",
    "    res = requests.get(productURL)\n",
    "    res.raise_for_status()\n",
    "    \n",
    "    soup = bs4.BeautifulSoup(res.text, 'html.parser')\n",
    "    elems = soup.select('#buyNewSection > div > div > span.inlineBlock-display > span')\n",
    "    \n",
    "    return elems[0].text.strip()\n",
    "    \n",
    "price = getAmazonPrice('https://www.amazon.sg/Automate-Boring-Stuff-Python-2nd/dp/1593279922/ref=sr_1_4?qid=1588957546&refinements=p_27%3AAl+Sweigart&s=books&sr=1-4')"
   ]
  },
  {
   "cell_type": "code",
   "execution_count": 50,
   "metadata": {},
   "outputs": [
    {
     "data": {
      "text/plain": [
       "'S$48.00'"
      ]
     },
     "execution_count": 50,
     "metadata": {},
     "output_type": "execute_result"
    }
   ],
   "source": [
    "price"
   ]
  },
  {
   "cell_type": "markdown",
   "metadata": {},
   "source": [
    "## Selenium module: controling the browser and moving through webpages using CSS selector"
   ]
  },
  {
   "cell_type": "code",
   "execution_count": 68,
   "metadata": {},
   "outputs": [],
   "source": [
    "# controlling the browser with the selenium module (41)\n",
    "# may need to put geckodriver into your path\n",
    "\n",
    "from selenium import webdriver\n",
    "browser = webdriver.Firefox()\n",
    "browser.get(r'https://automatetheboringstuff.com/')\n",
    "\n"
   ]
  },
  {
   "cell_type": "code",
   "execution_count": 70,
   "metadata": {},
   "outputs": [],
   "source": [
    "# copy unique selector\n",
    "# find element by unique css selector\n",
    "\n",
    "#locating the button\n",
    "elem = browser.find_element_by_css_selector('.main > div:nth-child(1) > ul:nth-child(20) > li:nth-child(1) > a:nth-child(1)')\n",
    "# clicking on the button\n",
    "elem.click()\n"
   ]
  },
  {
   "cell_type": "code",
   "execution_count": 73,
   "metadata": {},
   "outputs": [
    {
     "data": {
      "text/plain": [
       "109"
      ]
     },
     "execution_count": 73,
     "metadata": {},
     "output_type": "execute_result"
    }
   ],
   "source": [
    "# find elements by paragraph\n",
    "elems = browser.find_elements_by_css_selector('p')\n",
    "len(elems)"
   ]
  },
  {
   "cell_type": "code",
   "execution_count": 95,
   "metadata": {
    "scrolled": true
   },
   "outputs": [],
   "source": [
    "# fill u the input cell of a form, works but the manual chose a website that doesnt have a search field\n",
    "# i changed it to youtube\n",
    "\n",
    "browser = webdriver.Firefox()\n",
    "browser.get(r'https://www.youtube.com/')\n",
    "searchElem = browser.find_element_by_css_selector(\"input[placeholder='Search']\")\n",
    "searchElem.send_keys('cat videos')\n",
    "searchElem.submit()\n",
    "browser.back()\n",
    "browser.forward()\n",
    "browser.refresh()\n",
    "#browser.quit()\n"
   ]
  },
  {
   "cell_type": "code",
   "execution_count": 91,
   "metadata": {
    "scrolled": true
   },
   "outputs": [
    {
     "name": "stdout",
     "output_type": "stream",
     "text": [
      "If you've ever spent hours renaming files or updating hundreds of spreadsheet cells, you know how tedious tasks like these can be. But what if you could have your computer do them for you?\n"
     ]
    }
   ],
   "source": [
    "#select to print a portion of the html, maybe a paragraph\n",
    "# go the webpage, inspect, CSS/unique identifier\n",
    "\n",
    "browser = webdriver.Firefox()\n",
    "browser.get(r'https://automatetheboringstuff.com/')\n",
    "elem = browser.find_element_by_css_selector('.main > div:nth-child(1) > p:nth-child(8)')\n",
    "print(elem.text)"
   ]
  },
  {
   "cell_type": "code",
   "execution_count": 88,
   "metadata": {},
   "outputs": [],
   "source": [
    "# select all text on the webpage\n",
    "\n",
    "elem = browser.find_element_by_css_selector('html')\n",
    "print(elem.text)"
   ]
  }
 ],
 "metadata": {
  "kernelspec": {
   "display_name": "Python 3",
   "language": "python",
   "name": "python3"
  },
  "language_info": {
   "codemirror_mode": {
    "name": "ipython",
    "version": 3
   },
   "file_extension": ".py",
   "mimetype": "text/x-python",
   "name": "python",
   "nbconvert_exporter": "python",
   "pygments_lexer": "ipython3",
   "version": "3.7.4"
  }
 },
 "nbformat": 4,
 "nbformat_minor": 4
}
